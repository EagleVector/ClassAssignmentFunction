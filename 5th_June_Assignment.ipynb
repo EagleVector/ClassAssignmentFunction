{
 "cells": [
  {
   "cell_type": "markdown",
   "id": "fbd9224d",
   "metadata": {},
   "source": [
    "Q1. Try to print all prime number in between 1 to 1000"
   ]
  },
  {
   "cell_type": "code",
   "execution_count": 1,
   "id": "c9a0a710",
   "metadata": {},
   "outputs": [
    {
     "name": "stdout",
     "output_type": "stream",
     "text": [
      "Enter the lower limit1\n",
      "Enter the upper limit1000\n",
      "2 3 5 7 11 13 17 19 23 29 31 37 41 43 47 53 59 61 67 71 73 79 83 89 97 101 103 107 109 113 127 131 137 139 149 151 157 163 167 173 179 181 191 193 197 199 211 223 227 229 233 239 241 251 257 263 269 271 277 281 283 293 307 311 313 317 331 337 347 349 353 359 367 373 379 383 389 397 401 409 419 421 431 433 439 443 449 457 461 463 467 479 487 491 499 503 509 521 523 541 547 557 563 569 571 577 587 593 599 601 607 613 617 619 631 641 643 647 653 659 661 673 677 683 691 701 709 719 727 733 739 743 751 757 761 769 773 787 797 809 811 821 823 827 829 839 853 857 859 863 877 881 883 887 907 911 919 929 937 941 947 953 967 971 977 983 991 997 "
     ]
    }
   ],
   "source": [
    "lower = int(input(\"Enter the lower limit\"))\n",
    "upper = int(input(\"Enter the upper limit\"))\n",
    "\n",
    "for i in range(lower , upper + 1):\n",
    "    if i > 1:\n",
    "        for j in range(2,i):\n",
    "            if i % j == 0:\n",
    "                break\n",
    "        else:\n",
    "            print(i , end = \" \")"
   ]
  },
  {
   "cell_type": "markdown",
   "id": "f8e254a3",
   "metadata": {},
   "source": [
    "Q2. Try to write a function which  is equivalent  to print function in python."
   ]
  },
  {
   "cell_type": "code",
   "execution_count": 9,
   "id": "b6f5e068",
   "metadata": {},
   "outputs": [
    {
     "data": {
      "text/plain": [
       "'This is my print function'"
      ]
     },
     "execution_count": 9,
     "metadata": {},
     "output_type": "execute_result"
    }
   ],
   "source": [
    "def print_function(n):\n",
    "    return n\n",
    "\n",
    "print_function(\"This is my print function\")"
   ]
  },
  {
   "cell_type": "markdown",
   "id": "736cf7a1",
   "metadata": {},
   "source": [
    "Q3. Try to write a function which is a replica of list append, extend and pop function."
   ]
  },
  {
   "cell_type": "code",
   "execution_count": 22,
   "id": "7229708d",
   "metadata": {},
   "outputs": [],
   "source": [
    "lst = [1,2,3,4]\n",
    "def replica_append(n):\n",
    "    n = str(n)\n",
    "    n = list(n)\n",
    "    final_lst = lst + n\n",
    "    return final_lst"
   ]
  },
  {
   "cell_type": "code",
   "execution_count": 23,
   "id": "076cc8d8",
   "metadata": {},
   "outputs": [
    {
     "data": {
      "text/plain": [
       "[1, 2, 3, 4, '5']"
      ]
     },
     "execution_count": 23,
     "metadata": {},
     "output_type": "execute_result"
    }
   ],
   "source": [
    "replica_append(5)"
   ]
  },
  {
   "cell_type": "code",
   "execution_count": 12,
   "id": "f4da1921",
   "metadata": {},
   "outputs": [
    {
     "name": "stdout",
     "output_type": "stream",
     "text": [
      "[1, 2, 3, 4, 1, 2, 3, 4]\n"
     ]
    }
   ],
   "source": [
    "lst = [1,2,3,4]\n",
    "def replica_extend(n):\n",
    "    final_lst = lst\n",
    "    for i in range(len(n)):\n",
    "        ele = [n[i]]\n",
    "        final_lst = final_lst + ele\n",
    "        \n",
    "    print(final_lst)\n",
    "    \n",
    "replica_extend([1,2,3,4])"
   ]
  },
  {
   "cell_type": "code",
   "execution_count": 17,
   "id": "4c4e5ec0",
   "metadata": {},
   "outputs": [
    {
     "name": "stdout",
     "output_type": "stream",
     "text": [
      "[1, 2, 3, 4]\n"
     ]
    }
   ],
   "source": [
    "def replica_pop(lst):\n",
    "    final_lst = []\n",
    "    for i in range(len(lst)-1):\n",
    "        ele = [lst[i]]\n",
    "        final_lst = final_lst + ele\n",
    "        \n",
    "    print(final_lst)\n",
    "\n",
    "replica_pop([1,2,3,4,5])"
   ]
  },
  {
   "cell_type": "markdown",
   "id": "1c06ae40",
   "metadata": {},
   "source": [
    "Q4. Try to write a lambda function which can return a concatenation of all the string that we will pass."
   ]
  },
  {
   "cell_type": "code",
   "execution_count": 28,
   "id": "86a24065",
   "metadata": {},
   "outputs": [],
   "source": [
    "from functools import reduce"
   ]
  },
  {
   "cell_type": "code",
   "execution_count": 31,
   "id": "f03646d5",
   "metadata": {},
   "outputs": [
    {
     "name": "stdout",
     "output_type": "stream",
     "text": [
      "amar ram shyam manohar karthik\n"
     ]
    }
   ],
   "source": [
    "lst = ['amar',' ram',' shyam',' manohar',' karthik']\n",
    "string = reduce(lambda x,y: x + y , lst)\n",
    "print(string)"
   ]
  },
  {
   "cell_type": "markdown",
   "id": "46e49558",
   "metadata": {},
   "source": [
    "Q5. Try to write a lambda function which can return list of square of all the data between 1-100."
   ]
  },
  {
   "cell_type": "code",
   "execution_count": 34,
   "id": "b31f7a8c",
   "metadata": {},
   "outputs": [
    {
     "name": "stdout",
     "output_type": "stream",
     "text": [
      "[1, 4, 9, 16, 25, 36, 49, 64, 81, 100, 121, 144, 169, 196, 225, 256, 289, 324, 361, 400, 441, 484, 529, 576, 625, 676, 729, 784, 841, 900, 961, 1024, 1089, 1156, 1225, 1296, 1369, 1444, 1521, 1600, 1681, 1764, 1849, 1936, 2025, 2116, 2209, 2304, 2401, 2500, 2601, 2704, 2809, 2916, 3025, 3136, 3249, 3364, 3481, 3600, 3721, 3844, 3969, 4096, 4225, 4356, 4489, 4624, 4761, 4900, 5041, 5184, 5329, 5476, 5625, 5776, 5929, 6084, 6241, 6400, 6561, 6724, 6889, 7056, 7225, 7396, 7569, 7744, 7921, 8100, 8281, 8464, 8649, 8836, 9025, 9216, 9409, 9604, 9801, 10000] "
     ]
    }
   ],
   "source": [
    "print(list(map(lambda x: x**2, [i for i in range(1,101)])), end = \" \")"
   ]
  },
  {
   "cell_type": "markdown",
   "id": "ae055f57",
   "metadata": {},
   "source": [
    "Q6. Try to write a 10 Different different example of lambda function with a choice of your tasks."
   ]
  },
  {
   "cell_type": "code",
   "execution_count": 43,
   "id": "9ce10824",
   "metadata": {},
   "outputs": [
    {
     "data": {
      "text/plain": [
       "10"
      ]
     },
     "execution_count": 43,
     "metadata": {},
     "output_type": "execute_result"
    }
   ],
   "source": [
    "double = lambda x: x * 2\n",
    "double(5)"
   ]
  },
  {
   "cell_type": "code",
   "execution_count": 44,
   "id": "2de1b18b",
   "metadata": {},
   "outputs": [
    {
     "data": {
      "text/plain": [
       "25"
      ]
     },
     "execution_count": 44,
     "metadata": {},
     "output_type": "execute_result"
    }
   ],
   "source": [
    "square = lambda x: x**2\n",
    "square(5)"
   ]
  },
  {
   "cell_type": "markdown",
   "id": "0f2dcd8b",
   "metadata": {},
   "source": [
    "Q7. Try to wwrite a funtion whihc can perform a read operation from .txt file."
   ]
  },
  {
   "cell_type": "code",
   "execution_count": 41,
   "id": "a2e0bdff",
   "metadata": {},
   "outputs": [
    {
     "data": {
      "text/plain": [
       "'You Are Amazing'"
      ]
     },
     "execution_count": 41,
     "metadata": {},
     "output_type": "execute_result"
    }
   ],
   "source": [
    "f = open(\"test9.txt\",\"r\")\n",
    "f.read()"
   ]
  }
 ],
 "metadata": {
  "kernelspec": {
   "display_name": "Python 3 (ipykernel)",
   "language": "python",
   "name": "python3"
  },
  "language_info": {
   "codemirror_mode": {
    "name": "ipython",
    "version": 3
   },
   "file_extension": ".py",
   "mimetype": "text/x-python",
   "name": "python",
   "nbconvert_exporter": "python",
   "pygments_lexer": "ipython3",
   "version": "3.9.12"
  }
 },
 "nbformat": 4,
 "nbformat_minor": 5
}
